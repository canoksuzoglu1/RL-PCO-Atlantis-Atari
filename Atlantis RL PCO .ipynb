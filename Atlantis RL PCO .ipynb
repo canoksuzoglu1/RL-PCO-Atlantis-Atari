{
 "cells": [
  {
   "cell_type": "code",
   "execution_count": null,
   "id": "79fe8984",
   "metadata": {},
   "outputs": [],
   "source": [
    "import gym  \n",
    "from stable_baselines3 import PPO  \n",
    "from stable_baselines3.common.vec_env import VecFrameStack  \n",
    "from stable_baselines3.common.evaluation import evaluate_policy \n",
    "from stable_baselines3.common.env_util import make_atari_env \n",
    "import os "
   ]
  },
  {
   "cell_type": "code",
   "execution_count": null,
   "id": "cf3e39bc",
   "metadata": {},
   "outputs": [],
   "source": [
    "env = make_atari_env('ALE/Atlantis-v5', n_envs=4, seed=0)  \n",
    "env = VecFrameStack(env, n_stack=4)  "
   ]
  },
  {
   "cell_type": "code",
   "execution_count": null,
   "id": "64df4ce8",
   "metadata": {},
   "outputs": [],
   "source": [
    "log_path = os.path.join('Training', 'Logs')\n",
    "\n",
    "model = PPO('CnnPolicy', env, verbose=1, tensorboard_log=log_path)"
   ]
  },
  {
   "cell_type": "code",
   "execution_count": null,
   "id": "544d6145",
   "metadata": {},
   "outputs": [],
   "source": [
    "model.learn(total_timesteps=2000000)"
   ]
  },
  {
   "cell_type": "code",
   "execution_count": null,
   "id": "b1a7dcbe",
   "metadata": {},
   "outputs": [],
   "source": [
    "ppo_path = os.path.join('Training', 'Saved Models', 'PPO_Atlantis_2MT')"
   ]
  },
  {
   "cell_type": "code",
   "execution_count": null,
   "id": "e3cfc704",
   "metadata": {},
   "outputs": [],
   "source": [
    "model.save(ppo_path)"
   ]
  },
  {
   "cell_type": "code",
   "execution_count": null,
   "id": "adf9f137",
   "metadata": {},
   "outputs": [],
   "source": [
    "del model"
   ]
  },
  {
   "cell_type": "code",
   "execution_count": null,
   "id": "320f64f8",
   "metadata": {},
   "outputs": [],
   "source": [
    "model = PPO.load(ppo_path, env)"
   ]
  },
  {
   "cell_type": "code",
   "execution_count": null,
   "id": "943dc574",
   "metadata": {},
   "outputs": [],
   "source": [
    "env = make_atari_env('ALE/Atlantis-v5', n_envs=1, seed=0)  # Evaluate sadece 1 env de çalışır\n",
    "env = VecFrameStack(env, n_stack=4)  "
   ]
  },
  {
   "cell_type": "code",
   "execution_count": null,
   "id": "551fdfba",
   "metadata": {},
   "outputs": [],
   "source": [
    "evaluate_policy(model, env, n_eval_episodes=10, render=True)"
   ]
  },
  {
   "cell_type": "code",
   "execution_count": null,
   "id": "7494e2c7",
   "metadata": {},
   "outputs": [],
   "source": [
    "import time\n",
    "\n",
    "obs = env.reset()\n",
    "while True:\n",
    "    action, _states = model.predict(obs)\n",
    "    obs, rewards, dones, info = env.step(action)\n",
    "    env.render('human')\n",
    "    time.sleep(0.1)"
   ]
  },
  {
   "cell_type": "code",
   "execution_count": null,
   "id": "ce56cebb",
   "metadata": {},
   "outputs": [],
   "source": []
  }
 ],
 "metadata": {
  "kernelspec": {
   "display_name": "Python 3 (ipykernel)",
   "language": "python",
   "name": "python3"
  },
  "language_info": {
   "codemirror_mode": {
    "name": "ipython",
    "version": 3
   },
   "file_extension": ".py",
   "mimetype": "text/x-python",
   "name": "python",
   "nbconvert_exporter": "python",
   "pygments_lexer": "ipython3",
   "version": "3.11.5"
  }
 },
 "nbformat": 4,
 "nbformat_minor": 5
}
